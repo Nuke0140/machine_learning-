{
 "cells": [
  {
   "cell_type": "markdown",
   "id": "5d7f68b3",
   "metadata": {},
   "source": [
    "### what is recusrsion \n",
    "---\n",
    "- Recursion is the process of repeating a procedure \n",
    "\n",
    "### direct Recursion \n",
    "\n"
   ]
  },
  {
   "cell_type": "code",
   "execution_count": 2,
   "id": "b0f48ef3",
   "metadata": {},
   "outputs": [
    {
     "name": "stdout",
     "output_type": "stream",
     "text": [
      "main called funct with n =  7\n",
      "func called funct with n =  6\n",
      "func called funct with n =  5\n",
      "func called funct with n =  4\n",
      "func called funct with n =  3\n",
      "func called funct with n =  2\n",
      "func called funct with n =  1\n"
     ]
    }
   ],
   "source": [
    "def func(str,n):\n",
    "    if n>0:\n",
    "        print (str,\"called funct with n = \",n)\n",
    "        func(\"func\",n-1)\n",
    "\n",
    "def main():\n",
    "    func(\"main\",7)\n",
    "\n",
    "main()"
   ]
  },
  {
   "cell_type": "markdown",
   "id": "438ef2b7",
   "metadata": {},
   "source": [
    "- func makes recursive call to itself inine 4 also lookk at the condition in line2 this is called the base case \n",
    "- if we were to remove this line , our program would not know when to stop execution and python will throw an error saying \n",
    "- the first case where the print statement occurs before the recursive call is called tail recursion.\n",
    "- This is because the recursive call is following the processing, print in this case. Whereas in the second case, when the number is displayed after the recursive call, it is called head recursion because the recursive call occurs at the start of the function before any other statement.\n",
    "\n",
    "## indirect recusion \n",
    "- When two or more functions call themselves indirectly from each other, we call it indirect recursion.\n"
   ]
  },
  {
   "cell_type": "code",
   "execution_count": 7,
   "id": "470090a6",
   "metadata": {},
   "outputs": [
    {
     "name": "stdout",
     "output_type": "stream",
     "text": [
      "main called func1 with n=  7\n",
      "func1 called func2 with n = 6\n",
      "func2 called func1 with n=  4\n",
      "func1 called func2 with n = 3\n",
      "func2 called func1 with n=  1\n"
     ]
    }
   ],
   "source": [
    "def func1(str,n):\n",
    "    if n>0:\n",
    "        print(str,\"called func1 with n= \",n)\n",
    "        func2(\"func1\",n-1)\n",
    "        \n",
    "def func2(str,n):\n",
    "    if n>0:\n",
    "        print(str,\"called func2 with n =\",n)\n",
    "        func1(\"func2\",n-2)\n",
    "    \n",
    "def main():\n",
    "    func1(\"main\",7)\n",
    "main()"
   ]
  },
  {
   "cell_type": "markdown",
   "id": "566b328c",
   "metadata": {},
   "source": [
    "- Nothing tricky here: func1 calls func2 with n-1 in line 4, whereas func2 calls back func1 with n-2 in line 9 until n becomes less than or equal to 0. Following is the order of the function calls:\n",
    "\n",
    "- func1 -> func2 -> func1 -> func2\n",
    "\n",
    "## Non - linear recursion \n",
    "\n",
    "-----\n",
    "- both the examples we discussed had a single call to themselves; this type of recursion is called linear recursion \n",
    "-  You might have a case where a function calls itself multiple times instead of once; we call that non-linear recursion\n"
   ]
  },
  {
   "cell_type": "markdown",
   "id": "70a60680",
   "metadata": {},
   "source": [
    "### Thinking Recursively \n",
    "----\n",
    "- "
   ]
  },
  {
   "cell_type": "code",
   "execution_count": 1,
   "id": "07896b43",
   "metadata": {},
   "outputs": [],
   "source": [
    "def countChar(str,char):\n",
    "    '''\n",
    "    you can call helper function as countChar_(str[1:],char)\n",
    "    '''\n",
    "    if len(str)<=0:\n",
    "        return 0\n",
    "    if str[0]==char:\n",
    "        return 1 + counterChar_(str[1:], char)\n",
    "    else:\n",
    "        return countChar_(str[1:],char)"
   ]
  },
  {
   "cell_type": "code",
   "execution_count": 6,
   "id": "251d1a32",
   "metadata": {},
   "outputs": [],
   "source": [
    "def fib(n):\n",
    "  '''\n",
    "  You can call helper function as fib_(n-1) and fib_(n-2)\n",
    "  '''\n",
    "  if n == 0:\n",
    "    return 0\n",
    "  if n == 1:\n",
    "    return 1\n",
    "  else:\n",
    "    return fib_(n-1) + fib_(n-2)\n"
   ]
  },
  {
   "cell_type": "markdown",
   "id": "10762da6",
   "metadata": {},
   "source": [
    "### IMplementation of fibonacci number \n"
   ]
  },
  {
   "cell_type": "code",
   "execution_count": 9,
   "id": "14f6c6f0",
   "metadata": {},
   "outputs": [
    {
     "name": "stdout",
     "output_type": "stream",
     "text": [
      "55\n",
      "6765\n"
     ]
    }
   ],
   "source": [
    "def fib(n):\n",
    "    if n ==0: # base case 1\n",
    "        return 0 \n",
    "    if n == 1: # base case 2 \n",
    "        return 1 \n",
    "    else: # recursive step \n",
    "        return fib(n-1)+fib(n-2)\n",
    "\n",
    "print(fib(10))\n",
    "print(fib(20))"
   ]
  },
  {
   "cell_type": "code",
   "execution_count": 10,
   "id": "820f0898",
   "metadata": {},
   "outputs": [],
   "source": [
    "def permutations(str):\n",
    "  if str == \"\": # base case\n",
    "    return [\"\"]\n",
    "  permutes = []\n",
    "  for char in str:\n",
    "    subpermutes = permutations(str.replace(char, \"\", 1))    # recursive step\n",
    "    for each in subpermutes:\n",
    "      permutes.append(char+each)\n",
    "  return permutes\n",
    "\n"
   ]
  },
  {
   "cell_type": "code",
   "execution_count": 11,
   "id": "bd59744a",
   "metadata": {},
   "outputs": [
    {
     "name": "stdout",
     "output_type": "stream",
     "text": [
      "['abc', 'acb', 'bac', 'bca', 'cab', 'cba']\n"
     ]
    }
   ],
   "source": [
    "def permutations(str):\n",
    "  if str == \"\": # base case\n",
    "    return [\"\"]\n",
    "  permutes = []\n",
    "  for char in str:\n",
    "    subpermutes = permutations(str.replace(char, \"\", 1))    # recursive step\n",
    "    for each in subpermutes:\n",
    "      permutes.append(char+each)\n",
    "  return permutes\n",
    "\n",
    "def main():\n",
    "  print (permutations(\"abc\"))\n",
    "\n",
    "main()"
   ]
  },
  {
   "cell_type": "code",
   "execution_count": null,
   "id": "cce91bc4",
   "metadata": {},
   "outputs": [],
   "source": []
  },
  {
   "cell_type": "code",
   "execution_count": null,
   "id": "63834864",
   "metadata": {},
   "outputs": [],
   "source": []
  },
  {
   "cell_type": "code",
   "execution_count": null,
   "id": "d790e321",
   "metadata": {},
   "outputs": [],
   "source": []
  }
 ],
 "metadata": {
  "kernelspec": {
   "display_name": "Python 3 (ipykernel)",
   "language": "python",
   "name": "python3"
  },
  "language_info": {
   "codemirror_mode": {
    "name": "ipython",
    "version": 3
   },
   "file_extension": ".py",
   "mimetype": "text/x-python",
   "name": "python",
   "nbconvert_exporter": "python",
   "pygments_lexer": "ipython3",
   "version": "3.9.7"
  }
 },
 "nbformat": 4,
 "nbformat_minor": 5
}
